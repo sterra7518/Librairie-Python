{
 "cells": [
  {
   "cell_type": "markdown",
   "id": "ad157d2d",
   "metadata": {},
   "source": [
    "# 1 - Introduction "
   ]
  },
  {
   "cell_type": "markdown",
   "id": "37673cf3",
   "metadata": {},
   "source": [
    "### Tableau à 1 dimension \n",
    "\n",
    "Le tableau Numpy est comparable à une séquence et il est plus puissant car :\n",
    "\n",
    "- il prend moins de place en mémoire \n",
    "- il écrit des programmes plus rapides \n",
    "- il nous donne pus d'accès aux méthodes pour des calculs scientifiques\n",
    "\n",
    "\n",
    "\n",
    "### Tableau à 2 dimensions\n",
    "\n",
    "On travaille plus souvent dans un tableau à 2 dimensions et on le compare souvent à un tableau Excel \n",
    "\n",
    "*Exemple - on peut stocker les pixels d'une image avec la valeur entre 0 et 255*"
   ]
  },
  {
   "cell_type": "markdown",
   "id": "d5b6d74a",
   "metadata": {},
   "source": [
    "### Tableau à 3 dimensions\n",
    "\n",
    "La librairie Numpy à des méthodes et des attributs (\"shape\" est la plus utilisée)\n",
    "\n",
    "ndarray.shape - il permet de voir la forme de la table (lignes, colonnes)"
   ]
  },
  {
   "cell_type": "code",
   "execution_count": 1,
   "id": "4412bc36",
   "metadata": {},
   "outputs": [],
   "source": [
    "shape = (2,3)"
   ]
  },
  {
   "cell_type": "markdown",
   "id": "c5f73236",
   "metadata": {},
   "source": [
    "**shape** est un tuple et un attribut immutable (package)"
   ]
  },
  {
   "cell_type": "code",
   "execution_count": 2,
   "id": "defd8522",
   "metadata": {},
   "outputs": [
    {
     "data": {
      "text/plain": [
       "2"
      ]
     },
     "execution_count": 2,
     "metadata": {},
     "output_type": "execute_result"
    }
   ],
   "source": [
    "shape[0]"
   ]
  },
  {
   "cell_type": "code",
   "execution_count": 3,
   "id": "8f522654",
   "metadata": {},
   "outputs": [
    {
     "data": {
      "text/plain": [
       "3"
      ]
     },
     "execution_count": 3,
     "metadata": {},
     "output_type": "execute_result"
    }
   ],
   "source": [
    "shape[1]"
   ]
  },
  {
   "cell_type": "raw",
   "id": "8d480327",
   "metadata": {},
   "source": [
    "Exemple \n",
    "\n",
    "- 1 dimension shape = (2,)\n",
    "- 2 dimension shape = (2,3)\n",
    "- 3 dimension shape = (2,3,2)"
   ]
  },
  {
   "cell_type": "markdown",
   "id": "c363e075",
   "metadata": {},
   "source": [
    "# 2 - Contenue de Numpy"
   ]
  },
  {
   "cell_type": "markdown",
   "id": "0a9d3282",
   "metadata": {},
   "source": [
    "### 2-1 Création d'un tableau"
   ]
  },
  {
   "cell_type": "code",
   "execution_count": 4,
   "id": "d292cd30",
   "metadata": {},
   "outputs": [],
   "source": [
    "#Importer du module\n",
    "\n",
    "import numpy as np"
   ]
  },
  {
   "cell_type": "code",
   "execution_count": 5,
   "id": "f24c641f",
   "metadata": {},
   "outputs": [],
   "source": [
    "#Tableau à 1 dimension \n",
    "\n",
    "A = np.array([1,2,3])"
   ]
  },
  {
   "cell_type": "code",
   "execution_count": 6,
   "id": "86f7a53e",
   "metadata": {},
   "outputs": [
    {
     "data": {
      "text/plain": [
       "(3,)"
      ]
     },
     "execution_count": 6,
     "metadata": {},
     "output_type": "execute_result"
    }
   ],
   "source": [
    "#On peut voir la dimension de A\n",
    "A.shape"
   ]
  },
  {
   "cell_type": "code",
   "execution_count": 7,
   "id": "bda98a44",
   "metadata": {},
   "outputs": [
    {
     "data": {
      "text/plain": [
       "3"
      ]
     },
     "execution_count": 7,
     "metadata": {},
     "output_type": "execute_result"
    }
   ],
   "source": [
    "#On peut voir le nombre d'élément de A\n",
    "A.size"
   ]
  },
  {
   "cell_type": "markdown",
   "id": "d7605781",
   "metadata": {},
   "source": [
    "On a des constructeur permettant d'initialiser nos tableaux avec certains nombres et certains dimensions\n",
    "\n",
    "par exemple, on a la fonction 'np.zeros' qui initialise un tableau avec plein de zéros et ce qu'on a faire d'ndiquer dans notre fonction les dimensions qu'on va voir pour notre tableau (la forme ou le shape) "
   ]
  },
  {
   "cell_type": "code",
   "execution_count": 8,
   "id": "b3d6a249",
   "metadata": {},
   "outputs": [
    {
     "data": {
      "text/plain": [
       "array([[0., 0.],\n",
       "       [0., 0.],\n",
       "       [0., 0.]])"
      ]
     },
     "execution_count": 8,
     "metadata": {},
     "output_type": "execute_result"
    }
   ],
   "source": [
    "#Construire un tableau avec des zéros\n",
    "\n",
    "B = np.zeros((3,2))\n",
    "B"
   ]
  },
  {
   "cell_type": "code",
   "execution_count": 9,
   "id": "54f02026",
   "metadata": {},
   "outputs": [
    {
     "data": {
      "text/plain": [
       "array([[1., 1., 1., 1.],\n",
       "       [1., 1., 1., 1.],\n",
       "       [1., 1., 1., 1.]])"
      ]
     },
     "execution_count": 9,
     "metadata": {},
     "output_type": "execute_result"
    }
   ],
   "source": [
    "#Un tableau contenant que des 1\n",
    "\n",
    "C = np.ones((3,4))\n",
    "C"
   ]
  },
  {
   "cell_type": "code",
   "execution_count": 10,
   "id": "4a530073",
   "metadata": {},
   "outputs": [
    {
     "data": {
      "text/plain": [
       "12"
      ]
     },
     "execution_count": 10,
     "metadata": {},
     "output_type": "execute_result"
    }
   ],
   "source": [
    " C.size"
   ]
  },
  {
   "cell_type": "code",
   "execution_count": 11,
   "id": "d629677e",
   "metadata": {},
   "outputs": [
    {
     "data": {
      "text/plain": [
       "array([[ 1.76405235,  0.40015721,  0.97873798,  2.2408932 ],\n",
       "       [ 1.86755799, -0.97727788,  0.95008842, -0.15135721],\n",
       "       [-0.10321885,  0.4105985 ,  0.14404357,  1.45427351]])"
      ]
     },
     "execution_count": 11,
     "metadata": {},
     "output_type": "execute_result"
    }
   ],
   "source": [
    "#Matrice de valeurs aléatoires\n",
    "\n",
    "np.random.seed(0) #pour conservé le nombre aléatoire\n",
    "np.random.randn(3,4) #le plus utilisé"
   ]
  },
  {
   "cell_type": "code",
   "execution_count": 13,
   "id": "b119a60d",
   "metadata": {},
   "outputs": [
    {
     "data": {
      "text/plain": [
       "array([[1., 0., 0., 0., 0.],\n",
       "       [0., 1., 0., 0., 0.],\n",
       "       [0., 0., 1., 0., 0.],\n",
       "       [0., 0., 0., 1., 0.],\n",
       "       [0., 0., 0., 0., 1.]])"
      ]
     },
     "execution_count": 13,
     "metadata": {},
     "output_type": "execute_result"
    }
   ],
   "source": [
    "#Matrice identité\n",
    "\n",
    "np.eye(5)"
   ]
  },
  {
   "cell_type": "code",
   "execution_count": 12,
   "id": "6c090a09",
   "metadata": {},
   "outputs": [
    {
     "data": {
      "text/plain": [
       "array([ 0. ,  2.5,  5. ,  7.5, 10. ])"
      ]
     },
     "execution_count": 12,
     "metadata": {},
     "output_type": "execute_result"
    }
   ],
   "source": [
    "#Création d'un tableau de dim1 réparti entre deux entiers avec le nombre éléments \n",
    "\n",
    "np.linspace(0,10,5)"
   ]
  },
  {
   "cell_type": "code",
   "execution_count": 13,
   "id": "4983bf30-58bb-4820-8bf7-7fe6f79ac238",
   "metadata": {},
   "outputs": [
    {
     "data": {
      "text/plain": [
       "array([0.        , 0.35714286, 0.71428571, 1.07142857, 1.42857143,\n",
       "       1.78571429, 2.14285714, 2.5       , 2.85714286, 3.21428571,\n",
       "       3.57142857, 3.92857143, 4.28571429, 4.64285714, 5.        ])"
      ]
     },
     "execution_count": 13,
     "metadata": {},
     "output_type": "execute_result"
    }
   ],
   "source": [
    "#un autre exemple de valeurs : 15 valeurs entre 1 et 5\n",
    "\n",
    "np.linspace(0,5,15)"
   ]
  },
  {
   "cell_type": "code",
   "execution_count": 17,
   "id": "fadb47ca",
   "metadata": {},
   "outputs": [
    {
     "data": {
      "text/plain": [
       "array([0, 4, 8])"
      ]
     },
     "execution_count": 17,
     "metadata": {},
     "output_type": "execute_result"
    }
   ],
   "source": [
    "#Tableau à 1 dimension auquel on demande le pas entre le début et la fin \n",
    "\n",
    "np.arange(0,10,4)"
   ]
  },
  {
   "cell_type": "markdown",
   "id": "2800bcdb",
   "metadata": {},
   "source": [
    "### 2-2 Choix des types de données\n",
    "\n",
    "Quand on créer un tableau avec Numpy, on peut choisir quel type de donnée on veut avoir dans ce tableau avec '***dtype***'\n",
    "Il y a beaucoup de type de données aux choix\n",
    "\n",
    "*Exemple avec les bit*\n",
    "\n",
    "*-plus on augmente le nombre de bit pouvant occupé nos données sur notre ordinateur et meilleur sera la précision avec une performance plus important(mais on aura un temps d'éxécution moins rapide)*\n",
    "\n"
   ]
  },
  {
   "cell_type": "code",
   "execution_count": 26,
   "id": "dd7b4717",
   "metadata": {},
   "outputs": [
    {
     "data": {
      "text/plain": [
       "numpy.float16"
      ]
     },
     "execution_count": 26,
     "metadata": {},
     "output_type": "execute_result"
    }
   ],
   "source": [
    "#Exemple pour le nombre \"Pi\"\n",
    "\n",
    "np.float16"
   ]
  },
  {
   "cell_type": "code",
   "execution_count": 27,
   "id": "a3d73078",
   "metadata": {},
   "outputs": [
    {
     "data": {
      "text/plain": [
       "3.141592653589793"
      ]
     },
     "execution_count": 27,
     "metadata": {},
     "output_type": "execute_result"
    }
   ],
   "source": [
    "np.pi"
   ]
  },
  {
   "cell_type": "markdown",
   "id": "d71df02c-4b0d-4679-bf30-0135815383e6",
   "metadata": {},
   "source": [
    "la méthode **linspace** permet de créer un tableau à 1 dimension qui a un début et une fin avec un quantité de nombre souhaité et réparti de façon égale entre le point de début et le point de fin"
   ]
  },
  {
   "cell_type": "code",
   "execution_count": 35,
   "id": "3a24cd52",
   "metadata": {},
   "outputs": [
    {
     "data": {
      "text/plain": [
       "array([1.        , 1.44444444, 1.88888889, 2.33333333, 2.77777778,\n",
       "       3.22222222, 3.66666667, 4.11111111, 4.55555556, 5.        ])"
      ]
     },
     "execution_count": 35,
     "metadata": {},
     "output_type": "execute_result"
    }
   ],
   "source": [
    "#Exemple \n",
    "\n",
    "np.linspace(1,5,10)"
   ]
  },
  {
   "cell_type": "code",
   "execution_count": 16,
   "id": "ed8257c1-1f1c-49bb-9570-23df5227cb0b",
   "metadata": {},
   "outputs": [
    {
     "data": {
      "text/plain": [
       "array([1, 2, 3, 4])"
      ]
     },
     "execution_count": 16,
     "metadata": {},
     "output_type": "execute_result"
    }
   ],
   "source": [
    "np.arange(1,5,1)"
   ]
  },
  {
   "cell_type": "markdown",
   "id": "34da18c6-b522-48f1-a5bc-c17095d235e0",
   "metadata": {},
   "source": [
    "On peut le type de donnée qui prend ou non de la place de la mémoire "
   ]
  },
  {
   "cell_type": "code",
   "execution_count": 18,
   "id": "676fa743",
   "metadata": {},
   "outputs": [
    {
     "data": {
      "text/plain": [
       "array([1.   , 1.444, 1.889, 2.334, 2.777, 3.223, 3.666, 4.11 , 4.555,\n",
       "       5.   ], dtype=float16)"
      ]
     },
     "execution_count": 18,
     "metadata": {},
     "output_type": "execute_result"
    }
   ],
   "source": [
    "#exemple un choix d'un nombre à 16 bit\n",
    "\n",
    "np.linspace(1,5,10,dtype=np.float16)"
   ]
  },
  {
   "cell_type": "markdown",
   "id": "e7ddf6bf",
   "metadata": {},
   "source": [
    "### 2-3 Manipulation de tableau \n",
    "\n",
    "On va commencer par créer 2 matrices"
   ]
  },
  {
   "cell_type": "code",
   "execution_count": 19,
   "id": "6097c989",
   "metadata": {},
   "outputs": [
    {
     "data": {
      "text/plain": [
       "array([[0., 0.],\n",
       "       [0., 0.],\n",
       "       [0., 0.]])"
      ]
     },
     "execution_count": 19,
     "metadata": {},
     "output_type": "execute_result"
    }
   ],
   "source": [
    "#Matrice contenant que des 0\n",
    "\n",
    "A = np.zeros((3,2))\n",
    "A"
   ]
  },
  {
   "cell_type": "code",
   "execution_count": 20,
   "id": "77c52fa8",
   "metadata": {},
   "outputs": [
    {
     "data": {
      "text/plain": [
       "array([[1., 1.],\n",
       "       [1., 1.],\n",
       "       [1., 1.]])"
      ]
     },
     "execution_count": 20,
     "metadata": {},
     "output_type": "execute_result"
    }
   ],
   "source": [
    "#Matrice contenant que des 1\n",
    "\n",
    "B = np.ones((3,2))\n",
    "B"
   ]
  },
  {
   "cell_type": "markdown",
   "id": "9e799209",
   "metadata": {},
   "source": [
    "On peut les assembler ces deux tableaux mais il existe plusieurs façon de le faire :\n",
    "- **hastack** : les deux tableaux sont regroupés de façon horizontal\n",
    "- **vastack** : les deux tableaux sont regroupés de façon vertical\n",
    "\n",
    "\n",
    "*Ces deux méthodes peuvent être utile si on utilise les mathodes de régression par exemple*\n"
   ]
  },
  {
   "cell_type": "code",
   "execution_count": 21,
   "id": "53e491ea",
   "metadata": {},
   "outputs": [
    {
     "data": {
      "text/plain": [
       "array([[0., 0., 1., 1.],\n",
       "       [0., 0., 1., 1.],\n",
       "       [0., 0., 1., 1.]])"
      ]
     },
     "execution_count": 21,
     "metadata": {},
     "output_type": "execute_result"
    }
   ],
   "source": [
    "#de façon horizontal\n",
    "\n",
    "C1 = np.hstack((A,B)) \n",
    "C1"
   ]
  },
  {
   "cell_type": "code",
   "execution_count": 22,
   "id": "c640e5fd",
   "metadata": {},
   "outputs": [
    {
     "data": {
      "text/plain": [
       "(3, 4)"
      ]
     },
     "execution_count": 22,
     "metadata": {},
     "output_type": "execute_result"
    }
   ],
   "source": [
    "C1.shape"
   ]
  },
  {
   "cell_type": "code",
   "execution_count": 23,
   "id": "0b8c4980",
   "metadata": {},
   "outputs": [
    {
     "data": {
      "text/plain": [
       "array([[0., 0.],\n",
       "       [0., 0.],\n",
       "       [0., 0.],\n",
       "       [1., 1.],\n",
       "       [1., 1.],\n",
       "       [1., 1.]])"
      ]
     },
     "execution_count": 23,
     "metadata": {},
     "output_type": "execute_result"
    }
   ],
   "source": [
    "#de façon vertical\n",
    "\n",
    "C2 = np.vstack((A,B))\n",
    "C2"
   ]
  },
  {
   "cell_type": "code",
   "execution_count": 24,
   "id": "8053036e",
   "metadata": {},
   "outputs": [
    {
     "data": {
      "text/plain": [
       "(6, 2)"
      ]
     },
     "execution_count": 24,
     "metadata": {},
     "output_type": "execute_result"
    }
   ],
   "source": [
    "C2.shape"
   ]
  },
  {
   "cell_type": "markdown",
   "id": "d25a5513-25c7-4951-b66e-6d9924e9ac7c",
   "metadata": {},
   "source": [
    "On a une methode encore plus simple **concatenate**"
   ]
  },
  {
   "cell_type": "code",
   "execution_count": 52,
   "id": "9f7659d4",
   "metadata": {},
   "outputs": [
    {
     "data": {
      "text/plain": [
       "array([[0., 0., 1., 1.],\n",
       "       [0., 0., 1., 1.],\n",
       "       [0., 0., 1., 1.]])"
      ]
     },
     "execution_count": 52,
     "metadata": {},
     "output_type": "execute_result"
    }
   ],
   "source": [
    "#Une autre méthode\n",
    "\n",
    "C3 = np.concatenate((A,B),axis=1)\n",
    "C3"
   ]
  },
  {
   "cell_type": "markdown",
   "id": "0b2253dd",
   "metadata": {},
   "source": [
    "On peut remanipuler la forme du tableau avec \"**reshape**\""
   ]
  },
  {
   "cell_type": "code",
   "execution_count": 28,
   "id": "fad0b93c",
   "metadata": {},
   "outputs": [
    {
     "data": {
      "text/plain": [
       "array([[0., 0., 0., 0.],\n",
       "       [0., 0., 1., 1.],\n",
       "       [1., 1., 1., 1.]])"
      ]
     },
     "execution_count": 28,
     "metadata": {},
     "output_type": "execute_result"
    }
   ],
   "source": [
    "#On redimensionne mon tableau \n",
    "\n",
    "C4 = C2.reshape((3,4))\n",
    "C4"
   ]
  },
  {
   "cell_type": "markdown",
   "id": "bbf18902",
   "metadata": {},
   "source": [
    "Cette fonction est très utile pour fairr des algorithmes "
   ]
  },
  {
   "cell_type": "code",
   "execution_count": 29,
   "id": "2f16b27b",
   "metadata": {},
   "outputs": [
    {
     "data": {
      "text/plain": [
       "(3,)"
      ]
     },
     "execution_count": 29,
     "metadata": {},
     "output_type": "execute_result"
    }
   ],
   "source": [
    "D =  np.array([1,2,3])\n",
    "D.shape"
   ]
  },
  {
   "cell_type": "code",
   "execution_count": 30,
   "id": "16304df9",
   "metadata": {},
   "outputs": [],
   "source": [
    "D2 = D.reshape((A.shape[0],1))"
   ]
  },
  {
   "cell_type": "code",
   "execution_count": 31,
   "id": "6c1b92cd",
   "metadata": {},
   "outputs": [
    {
     "data": {
      "text/plain": [
       "array([[1],\n",
       "       [2],\n",
       "       [3]])"
      ]
     },
     "execution_count": 31,
     "metadata": {},
     "output_type": "execute_result"
    }
   ],
   "source": [
    "D2"
   ]
  },
  {
   "cell_type": "code",
   "execution_count": 32,
   "id": "354b4fb4",
   "metadata": {},
   "outputs": [
    {
     "data": {
      "text/plain": [
       "(3, 1)"
      ]
     },
     "execution_count": 32,
     "metadata": {},
     "output_type": "execute_result"
    }
   ],
   "source": [
    "D2.shape"
   ]
  },
  {
   "cell_type": "markdown",
   "id": "f3c55646-3cd0-4e30-8994-3fded41875cf",
   "metadata": {},
   "source": [
    "La méthode **squeeze** permet de faire disparaitre toute les dimension en 1"
   ]
  },
  {
   "cell_type": "code",
   "execution_count": 33,
   "id": "f76b7760",
   "metadata": {},
   "outputs": [],
   "source": [
    "D3 = D2.squeeze()"
   ]
  },
  {
   "cell_type": "code",
   "execution_count": 34,
   "id": "98cb3b5d",
   "metadata": {},
   "outputs": [
    {
     "data": {
      "text/plain": [
       "(3,)"
      ]
     },
     "execution_count": 34,
     "metadata": {},
     "output_type": "execute_result"
    }
   ],
   "source": [
    "D3.shape"
   ]
  },
  {
   "cell_type": "markdown",
   "id": "59141968-8926-4063-af94-73198106cc82",
   "metadata": {},
   "source": [
    "La méthode **ravel** permet de transformer notre tableau à n dimensions en 1 dimension et une méthode d'applatissement de données"
   ]
  },
  {
   "cell_type": "code",
   "execution_count": 36,
   "id": "9d25e065-2c75-45e1-983d-51d715758cf0",
   "metadata": {},
   "outputs": [
    {
     "data": {
      "text/plain": [
       "array([0., 0., 0., 0., 0., 0., 1., 1., 1., 1., 1., 1.])"
      ]
     },
     "execution_count": 36,
     "metadata": {},
     "output_type": "execute_result"
    }
   ],
   "source": [
    "C4.ravel()"
   ]
  },
  {
   "cell_type": "code",
   "execution_count": null,
   "id": "f8835383-b686-4501-bd0b-e9b47499cffe",
   "metadata": {},
   "outputs": [],
   "source": []
  },
  {
   "cell_type": "code",
   "execution_count": null,
   "id": "53edc197-4007-4567-b6e3-6541213efe6d",
   "metadata": {},
   "outputs": [],
   "source": []
  }
 ],
 "metadata": {
  "kernelspec": {
   "display_name": "Python 3 (ipykernel)",
   "language": "python",
   "name": "python3"
  },
  "language_info": {
   "codemirror_mode": {
    "name": "ipython",
    "version": 3
   },
   "file_extension": ".py",
   "mimetype": "text/x-python",
   "name": "python",
   "nbconvert_exporter": "python",
   "pygments_lexer": "ipython3",
   "version": "3.12.7"
  }
 },
 "nbformat": 4,
 "nbformat_minor": 5
}
